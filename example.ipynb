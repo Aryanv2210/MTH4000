{
 "cells": [
  {
   "cell_type": "markdown",
   "id": "da514d42",
   "metadata": {},
   "source": [
    "### Week 9 Lecture\n",
    "    Note book created and exectured with Local kernel"
   ]
  },
  {
   "cell_type": "markdown",
   "id": "e3a88187",
   "metadata": {},
   "source": []
  },
  {
   "cell_type": "code",
   "execution_count": null,
   "id": "b9ecc278",
   "metadata": {},
   "outputs": [
    {
     "name": "stdout",
     "output_type": "stream",
     "text": [
      "Hello World\n"
     ]
    }
   ],
   "source": [
    "print(\"Hello World\")    "
   ]
  },
  {
   "cell_type": "code",
   "execution_count": 8,
   "id": "a4d47fb1",
   "metadata": {},
   "outputs": [],
   "source": [
    "def f(x):\n",
    "    print(x)"
   ]
  },
  {
   "cell_type": "code",
   "execution_count": 9,
   "id": "2784ed3b",
   "metadata": {},
   "outputs": [
    {
     "name": "stdout",
     "output_type": "stream",
     "text": [
      "This is week 9 lecture\n"
     ]
    }
   ],
   "source": [
    "f(\"This is week 9 lecture\")"
   ]
  },
  {
   "cell_type": "code",
   "execution_count": null,
   "id": "7de302df",
   "metadata": {},
   "outputs": [],
   "source": []
  }
 ],
 "metadata": {
  "kernelspec": {
   "display_name": "Python 3 (ipykernel)",
   "language": "python",
   "name": "python3"
  },
  "language_info": {
   "codemirror_mode": {
    "name": "ipython",
    "version": 3
   },
   "file_extension": ".py",
   "mimetype": "text/x-python",
   "name": "python",
   "nbconvert_exporter": "python",
   "pygments_lexer": "ipython3",
   "version": "3.10.12"
  }
 },
 "nbformat": 4,
 "nbformat_minor": 5
}
